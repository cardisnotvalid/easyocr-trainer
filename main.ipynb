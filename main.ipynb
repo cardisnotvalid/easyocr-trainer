{
 "cells": [
  {
   "cell_type": "code",
   "execution_count": null,
   "metadata": {},
   "outputs": [],
   "source": [
    "!git clone https://github.com/cardisnotvalid/easyocr-trainer.git\n",
    "\n",
    "%cd /content/easyocr-trainer\n",
    "\n",
    "!python3 -m pip install -r requirements.txt\n",
    "\n",
    "%mkdir /content/easyocr-trainer/dataset\n",
    "%cd /content/easyocr-trainer/dataset\n",
    "\n",
    "!git clone https://github.com/cardisnotvalid/manga-fonts-ocr.git"
   ]
  },
  {
   "cell_type": "code",
   "execution_count": null,
   "metadata": {},
   "outputs": [],
   "source": [
    "%cd /content/easyocr-trainer/datasets\n",
    "\n",
    "!trdg --count 5000 --length 3 --format 64 \\\n",
    "--skew_angle 1 --random_skew --blur 1 --random_blur \\\n",
    "--background 0 --font_dir /content/datasets/manga-fonts-ocr/ \\\n",
    "--thread_count 8"
   ]
  },
  {
   "cell_type": "code",
   "execution_count": null,
   "metadata": {},
   "outputs": [],
   "source": [
    "import os\n",
    "import csv\n",
    "\n",
    "out_dir = \"/content/easyocr-trainer/dataset/out\"\n",
    "csv_filepath = \"%s/labels.csv\" % out_dir\n",
    "\n",
    "with open(csv_filepath, \"w\", encoding=\"utf-8\") as file:\n",
    "    writer = csv.writer(file)\n",
    "    writer.writerow([\"filename\", \"words\"])\n",
    "\n",
    "    for filename in os.listdir(out_dir):\n",
    "        if \"_\" not in filename:\n",
    "            continue\n",
    "            \n",
    "        label, new_filename = filename.split(\"_\")\n",
    "        writer.writerow((new_filename, label))\n",
    "        os.rename(\"%s/%s\" % (out_dir, filename), \"%s/%s\" % (out_dir, new_filename))"
   ]
  },
  {
   "cell_type": "code",
   "execution_count": null,
   "metadata": {},
   "outputs": [],
   "source": [
    "%mv /content/easyocr-trainer/dataset/out/* /content/easyocr-trainer/trainer/all_data/en_val"
   ]
  }
 ],
 "metadata": {
  "language_info": {
   "name": "python"
  },
  "orig_nbformat": 4
 },
 "nbformat": 4,
 "nbformat_minor": 2
}
